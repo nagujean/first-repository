{
 "cells": [
  {
   "cell_type": "code",
   "execution_count": null,
   "id": "eb822a2d-9e52-41ec-9061-afb462b735ed",
   "metadata": {},
   "outputs": [],
   "source": []
  },
  {
   "cell_type": "code",
   "execution_count": 1,
   "id": "77c629cd-2e0c-45bc-becc-1a1f9fc9541c",
   "metadata": {},
   "outputs": [
    {
     "name": "stdout",
     "output_type": "stream",
     "text": [
      "Requirement already satisfied: gensim==4.3.2 in /opt/conda/lib/python3.12/site-packages (4.3.2)\n",
      "Requirement already satisfied: numpy>=1.18.5 in /opt/conda/lib/python3.12/site-packages (from gensim==4.3.2) (1.26.2)\n",
      "Requirement already satisfied: scipy>=1.7.0 in /opt/conda/lib/python3.12/site-packages (from gensim==4.3.2) (1.12.0)\n",
      "Requirement already satisfied: smart_open>=1.8.1 in /opt/conda/lib/python3.12/site-packages (from gensim==4.3.2) (7.3.0.post1)\n",
      "Requirement already satisfied: wrapt in /opt/conda/lib/python3.12/site-packages (from smart_open>=1.8.1->gensim==4.3.2) (1.17.3)\n",
      "Requirement already satisfied: scipy==1.12.0 in /opt/conda/lib/python3.12/site-packages (1.12.0)\n",
      "Requirement already satisfied: numpy==1.26.2 in /opt/conda/lib/python3.12/site-packages (1.26.2)\n"
     ]
    }
   ],
   "source": [
    "!pip install gensim==4.3.2\n",
    "\n",
    "# 의존성 연결을 위해 다운그레이드를 진행합니다.\n",
    "!pip install scipy==1.12.0 numpy==1.26.2"
   ]
  },
  {
   "cell_type": "markdown",
   "id": "0d6ca351-c1af-4bd8-a961-4d94e9661329",
   "metadata": {},
   "source": [
    "# Step 1. 형태소 분석기를 이용하여 품사가 명사인 경우, 해당 단어를 추출하기"
   ]
  },
  {
   "cell_type": "code",
   "execution_count": 6,
   "id": "5918c634-5a73-4bf5-9e01-13bd364c24ea",
   "metadata": {},
   "outputs": [
    {
     "name": "stdout",
     "output_type": "stream",
     "text": [
      "사운드 엔지니어 상우(유지태 분)는 치매에 걸린 할머니(백성희 분)와\n",
      " 젊은 시절 상처한 한 아버지(박인환 분), 고모(신신애 분)와 함께 살고 있다.\n",
      " 어느 겨울 그는 지방 방송국 라디오 PD 은수(이영애 분)를 만난다.\n",
      " 자연의 소리를 채집해 틀어주는 라디오 프로그램을 준비하는 은수는 상우와 녹음 여행을 떠난다.\n",
      " 자연스레 가까워지는 두 사람은 어느 날, 은수의 아파트에서 밤을 보낸다.\n",
      " 너무 쉽게 사랑에 빠진 두 사람... 상우는 주체할 수 없을 정도로 그녀에게 빨려든다.\n",
      " 그러나 겨울에 만난 두 사람의 관계는 봄을 지나 여름을 맞이하면서 삐걱거린다.\n",
      " 이혼 경험이 있는 은수는 상우에게 결혼할 생각이 없다며 부담스러운 표정을 내비친다.\n",
      " \"어떻게 사랑이 변하니?...\"라고 묻는 상우에게 은수는 그저 \"헤어져\" 라고 단호하게 말한다.\n",
      " 영원히 변할 것 같지 않던 사랑이 변하고, 그 사실을 받아들이지 못하는 상우는 어찌 할 바를 모른다.\n",
      " 은수를 잊지 못하는 상우는 미련과 집착의 감정을 이기지 못하고 서울과 강릉을 오간다.\n",
      "유사 이래 연령, 성별, 빈부의 차이와 정치적인 입장을 불문하고 일거에 국민을 통합해 온 '애국심'이라는 성역에 일침을 가하는 다큐멘터리. 재작년 전국 민족민주 유가족협의회의 장기농성을 다룬 인상적인 다큐멘터리 <민들레>를 만들었던 독립영화집단 '빨간 눈사람'이 우리 사회 구석구석을 발빠르게 돌아다니며 애국심과 민족주의가 강요되는 현장을 발굴하여 카메라에 담았다. 박홍 서강대 명예총장, 이도형 '한국논단' 발행인, 축구해설자 신문선, 홍세화, 박노해 등 사회 각계의 '스타'들이 등장해 저마다의 확고한 신념을 성토한다. 감독 이경순과 최하동하는 이 작품을 위해 3년간 백여 명을 인터뷰했다고 한다. 2001 올해의 독립영화상 수상.\n",
      " 민족과 국가란 공동체에서 부단히 권력과 부를 얻는 자, 나아가 민족과 국가란 공동체에서 얻은 신분과 부귀를 영원히 그의 자손에게 대물림하려는 자, 그래서 민족과 국가란 공동체를 부단히 유지해야만 하는 자, 따라서 민족과 국가란 공동체의 당위성과 개인의 가치를 초월하는 그 존엄성을 끝도 없이 창조하고 되뇌어야 하는 자, 종국에는 민족과 국가란 공동체에 속해 있다고 태내에서부터 세뇌된 모든 이들의 삶과 행동에서 영원히 자기복제되는 순환의 고리, 영생하는 애국의 원동력은 그 순환의 골에서 온다.\n",
      "엽기적인 살인사건이 발생한 장소를 관광하는 투어팀. 그 팀에서 관광객들은 살인사건과 관련하여 히스테리컬한 반응을 보이는데 과연 이들의 정체는? (Tourists see whrer a murder take place. They respond hysterically to the murder…what are they?)\n",
      " 제46회 발라돌리드 국제영화제 (2001, 스페인)\n",
      "착하지만 엉뚱한 태희(배두나 분), 예쁜 깍쟁이 혜주(이요원 분), 그림을 잘 그리는 지영(옥지영 분), 명랑한 쌍둥이 비류(이은실 분)와 온조(이은주 분)는 단짝친구들. 늘 함께였던 그들이지만 스무 살이 되면서 길이 달라진다. 증권회사에 입사한 혜주는 성공한 커리어우먼의 야심을 키우고 미술에 재능이 있는 지영은 유학을 꿈꾼다. 한편 태희는 봉사활동에서 알게 된 뇌성마비 시인을 좋아하는데...\n",
      "  어느 날 지영이 길 잃은 새끼 고양이 티티를 만남면서 스무 살 그녀들의 삶에 고양이 한 마리가 끼어들게 된다. 혼자 있길 좋아하고, 쉽게 마음을 열지 않는 신비로운 동물 고양이. 고양이를 닮은 스무 살 그녀들. 고양이 티티와 함께 한 시간동안 삶은 예상못한 방향으로 흘러가지만 마침내 그녀들만의 해결책을 찾게 되는데... 사랑스런 몽상가 태희, 아름다운 야심가 혜주, 신비로운 아웃사이더 지영. 마지막으로 고양이를 부탁받은 사람은 누구일까?\n",
      "인도 등 아시아 식민지에 처음 발을 디딘 뒤 여행하고 “경영”한 이들은 과연 누구였을까? 과거의 이미지들은, 이민과 인종 문제, ‘오리엔탈리즘’이 격렬히 충돌하고 있는 현재와 강력하게 공명한다.\n",
      " [제19회 인디다큐페스티발]\n",
      "홀로 살아가는 미국 할머니와 한국 할머니의 이야기. 공원에서 가끔 마주치게 되는 그들은 비록 언어 소통의 어려움을 겪지만 시간이 흘러감에 따라 서로 가까워져 그들의 외로움과 우정을 공유하게 된다. 겨울이 지나고 봄이 왔을 때 길가의 민들레 홀씨는 삶의 이치를 말해주듯 한 할머니의 주위를 맴돈다. (Two elderly widows, an American and a Korean, frequent the same park in Philadelphia and attempt a friendship, though the Korean widow speaks no English. Driven by loneliness and a spark of hope, they persevere within the limits of body language, and the outcome poses a question of life as fundamental as a flower.)\n"
     ]
    }
   ],
   "source": [
    "import os\n",
    "\n",
    "data_dir = os.path.join(os.getenv(\"HOME\"), \"work/weat/data\")\n",
    "file_name = os.path.join(data_dir, \"synopsis.txt\")\n",
    "\n",
    "with open(file_name, 'r') as file:\n",
    "    for i in range(20):\n",
    "        print(file.readline(), end='')"
   ]
  },
  {
   "cell_type": "code",
   "execution_count": 7,
   "id": "fb285a41-4050-495e-b06b-cf30db684052",
   "metadata": {},
   "outputs": [
    {
     "name": "stdout",
     "output_type": "stream",
     "text": [
      "슝~\n"
     ]
    }
   ],
   "source": [
    "from konlpy.tag import Okt\n",
    "\n",
    "okt = Okt()\n",
    "tokenized = []\n",
    "\n",
    "with open(file_name, 'r') as file:\n",
    "    while True:\n",
    "        line = file.readline()\n",
    "        if not line: break\n",
    "        words = okt.pos(line, stem=True, norm=True)\n",
    "        res = []\n",
    "        for w in words:\n",
    "            if w[1] in [\"Noun\"]:      # \"Adjective\", \"Verb\" 등을 포함할 수도 있습니다.\n",
    "                res.append(w[0])    # 명사일 때만 tokenized 에 저장하게 됩니다.\n",
    "        tokenized.append(res)\n",
    "\n",
    "print(\"슝~\")"
   ]
  },
  {
   "cell_type": "code",
   "execution_count": 8,
   "id": "f9ed35c9-28ba-4eec-9666-e8ae5e83176c",
   "metadata": {},
   "outputs": [
    {
     "name": "stdout",
     "output_type": "stream",
     "text": [
      "71156\n"
     ]
    }
   ],
   "source": [
    "print(len(tokenized))"
   ]
  },
  {
   "cell_type": "markdown",
   "id": "8ea1ea93-1855-4f23-b12f-06e0834afc89",
   "metadata": {},
   "source": [
    "# Step 2. 추출된 결과로 embedding model 만들기"
   ]
  },
  {
   "cell_type": "code",
   "execution_count": 9,
   "id": "6755320d-65bb-4878-831b-ab2b1e06c006",
   "metadata": {},
   "outputs": [
    {
     "data": {
      "text/plain": [
       "[('작품', 0.8836379647254944),\n",
       " ('다큐멘터리', 0.8507499694824219),\n",
       " ('드라마', 0.8185138702392578),\n",
       " ('에마데딘', 0.8088107705116272),\n",
       " ('영화로', 0.8009150624275208),\n",
       " ('코미디', 0.7913956046104431),\n",
       " ('형식', 0.7894256114959717),\n",
       " ('주제', 0.78628009557724),\n",
       " ('감동', 0.7690208554267883),\n",
       " ('편의', 0.7640326023101807)]"
      ]
     },
     "execution_count": 9,
     "metadata": {},
     "output_type": "execute_result"
    }
   ],
   "source": [
    "from gensim.models import Word2Vec\n",
    "\n",
    "# tokenized에 담긴 데이터를 가지고 나만의 Word2Vec을 생성합니다. (Gensim 4.0 기준)\n",
    "model = Word2Vec(tokenized, vector_size=100, window=5, min_count=3, sg=0)\n",
    "model.wv.most_similar(positive=['영화'])\n",
    "\n",
    "# Gensim 3.X 에서는 아래와 같이 생성합니다.\n",
    "# model = Word2Vec(tokenized, size=100, window=5, min_count=3, sg=0)\n",
    "# model.most_similar(positive=['영화'])"
   ]
  },
  {
   "cell_type": "code",
   "execution_count": 10,
   "id": "263a94f4-cc53-4064-8ceb-5013577ec81f",
   "metadata": {},
   "outputs": [
    {
     "data": {
      "text/plain": [
       "[('행복', 0.6986163258552551),\n",
       " ('연애', 0.6973814964294434),\n",
       " ('목말', 0.6916773915290833),\n",
       " ('진심', 0.6909404397010803),\n",
       " ('애정', 0.688186526298523),\n",
       " ('만남', 0.6769837141036987),\n",
       " ('첫사랑', 0.6724501848220825),\n",
       " ('가슴', 0.6682933568954468),\n",
       " ('이별', 0.6621271967887878),\n",
       " ('열정', 0.6621190905570984)]"
      ]
     },
     "execution_count": 10,
     "metadata": {},
     "output_type": "execute_result"
    }
   ],
   "source": [
    "model.wv.most_similar(positive=['사랑'])"
   ]
  },
  {
   "cell_type": "code",
   "execution_count": 11,
   "id": "39f0ea6c-1398-4bd4-89aa-2f72a140e30f",
   "metadata": {},
   "outputs": [
    {
     "data": {
      "text/plain": [
       "[('영화감독', 0.8792727589607239),\n",
       " ('시나리오', 0.8695703148841858),\n",
       " ('배우', 0.8693483471870422),\n",
       " ('대본', 0.8682371973991394),\n",
       " ('오페라', 0.8653615117073059),\n",
       " ('영감', 0.8652237057685852),\n",
       " ('연기자', 0.8588903546333313),\n",
       " ('캐스팅', 0.8541169762611389),\n",
       " ('연기', 0.8540946841239929),\n",
       " ('공연', 0.851786196231842)]"
      ]
     },
     "execution_count": 11,
     "metadata": {},
     "output_type": "execute_result"
    }
   ],
   "source": [
    "model.wv.most_similar(positive=['연극'])"
   ]
  },
  {
   "cell_type": "markdown",
   "id": "fd1d1e07-50b2-4236-978b-0859069c3858",
   "metadata": {},
   "source": [
    "# Step 3. TF-IDF로 해당 데이터를 가장 잘 표현하는 단어 셋 만들기"
   ]
  },
  {
   "cell_type": "markdown",
   "id": "9c1029f5-c0b1-4a38-a383-affe85488426",
   "metadata": {},
   "source": [
    "KOBIS에서 제공한 정보를 기준으로 분류  \n",
    "  \n",
    "* 영화 구분  \n",
    "synopsis_art.txt : 예술영화  \n",
    "synopsis_gen.txt : 일반영화(상업영화)  \n",
    "그 외는 독립영화 등으로 분류됩니다.  \n",
    "  \n",
    "* 장르 구분   \n",
    "synopsis_SF.txt: SF  \n",
    "synopsis_가족.txt: 가족  \n",
    "synopsis_공연.txt: 공연  \n",
    "synopsis_공포(호러).txt: 공포(호러)  \n",
    "synopsis_기타.txt: 기타  \n",
    "synopsis_다큐멘터리.txt: 다큐멘터리  \n",
    "synopsis_드라마.txt: 드라마  \n",
    "synopsis_멜로로맨스.txt: 멜로로맨스  \n",
    "synopsis_뮤지컬.txt: 뮤지컬  \n",
    "synopsis_미스터리.txt: 미스터리  \n",
    "synopsis_범죄.txt: 범죄  \n",
    "synopsis_사극.txt: 사극  \n",
    "synopsis_서부극(웨스턴).txt: 서부극(웨스턴)  \n",
    "synopsis_성인물(에로).txt: 성인물(에로)  \n",
    "synopsis_스릴러.txt: 스릴러  \n",
    "synopsis_애니메이션.txt: 애니메이션  \n",
    "synopsis_액션.txt: 액션  \n",
    "synopsis_어드벤처.txt: 어드벤처  \n",
    "synopsis_전쟁.txt: 전쟁  \n",
    "synopsis_코미디.txt: 코미디  \n",
    "synopsis_판타지.txt: 판타지  \n",
    "  "
   ]
  },
  {
   "cell_type": "code",
   "execution_count": 12,
   "id": "0d087268-4730-499d-9383-2aac423dc493",
   "metadata": {},
   "outputs": [
    {
     "name": "stdout",
     "output_type": "stream",
     "text": [
      "슝~\n"
     ]
    }
   ],
   "source": [
    "# 텍스트 파일 명사 추출 함수\n",
    "import os  # 운영체제 기능 사용을 위한 라이브러리 (코드 조각에서는 미사용)\n",
    "from sklearn.feature_extraction.text import TfidfVectorizer  # TF-IDF 벡터화를 위한 라이브러리 (코드 조각에서는 미사용)\n",
    "import numpy as np  # 수치 연산을 위한 라이브러리 (코드 조각에서는 미사용)\n",
    "from konlpy.tag import Okt  # 한국어 형태소 분석을 위한 Okt 클래스\n",
    "\n",
    "art_txt = 'synopsis_art.txt'  # 예술 영화 시놉시스 파일명을 변수에 저장\n",
    "gen_txt = 'synopsis_gen.txt'  # 일반 영화 시놉시스 파일명을 변수에 저장\n",
    "\n",
    "def read_token(file_name):  # 파일명을 입력받아 명사를 추출하는 함수 정의\n",
    "    okt = Okt()  # Okt 형태소 분석기 객체 생성\n",
    "    result = []  # 추출된 명사를 저장할 빈 리스트 생성\n",
    "    with open(data_dir + '/' + file_name, 'r') as fread:  # 파일을 읽기 모드('r')로 열기\n",
    "        print(file_name, '파일을 읽고 있습니다.')  # 현재 처리 중인 파일명 출력\n",
    "        while True:  # 파일의 모든 줄을 읽기 위한 반복문\n",
    "            line = fread.readline()  # 파일에서 한 줄씩 읽어옴\n",
    "            if not line: break  # 더 이상 읽을 줄이 없으면 반복문 종료\n",
    "            tokenlist = okt.pos(line, stem=True, norm=True)  # 읽어온 줄을 형태소 단위로 분석\n",
    "            for word in tokenlist:  # 분석된 형태소 리스트를 순회\n",
    "                if word[1] in [\"Noun\"]:  # 만약 형태소의 품사(word[1])가 'Noun'(명사)이면\n",
    "                    result.append((word[0]))  # 해당 단어(word[0])를 result 리스트에 추가\n",
    "    return ' '.join(result)  # result 리스트에 저장된 모든 명사를 공백으로 연결하여 하나의 문자열로 반환\n",
    "\n",
    "print(\"슝~\")  # 코드 실행 준비 완료를 알리는 출력"
   ]
  },
  {
   "cell_type": "code",
   "execution_count": 13,
   "id": "dfb022a7-7808-4260-b6d9-906eae4d537e",
   "metadata": {},
   "outputs": [
    {
     "name": "stdout",
     "output_type": "stream",
     "text": [
      "synopsis_art.txt 파일을 읽고 있습니다.\n"
     ]
    }
   ],
   "source": [
    "# 2개의 파일을 처리하는데 10분 가량 걸립니다.\n",
    "art = read_token(art_txt)\n",
    "gen = read_token(gen_txt)"
   ]
  },
  {
   "cell_type": "code",
   "execution_count": 14,
   "id": "840a6f76-1004-4b11-b312-2771e06f4fce",
   "metadata": {},
   "outputs": [
    {
     "name": "stdout",
     "output_type": "stream",
     "text": [
      "(2, 41082)\n"
     ]
    }
   ],
   "source": [
    "vectorizer = TfidfVectorizer()\n",
    "X = vectorizer.fit_transform([art, gen])\n",
    "\n",
    "print(X.shape)"
   ]
  },
  {
   "cell_type": "code",
   "execution_count": 15,
   "id": "c30fc1fe-1d87-4c3c-8071-957255f94528",
   "metadata": {},
   "outputs": [
    {
     "name": "stdout",
     "output_type": "stream",
     "text": [
      "23976\n",
      "영화\n"
     ]
    }
   ],
   "source": [
    "# Vectorizer 확인: 단어-인덱스 조회\n",
    "print(vectorizer.vocabulary_['영화'])\n",
    "print(vectorizer.get_feature_names_out()[23976])"
   ]
  },
  {
   "cell_type": "code",
   "execution_count": 16,
   "id": "60febb66-c537-451a-bcab-b39456601e18",
   "metadata": {},
   "outputs": [
    {
     "name": "stdout",
     "output_type": "stream",
     "text": [
      "예술영화를 대표하는 단어들:\n",
      "그녀, 자신, 시작, 위해, 사랑, 사람, 영화, 친구, 남자, 가족, 이야기, 마을, 사건, 마음, 세상, 아버지, 아이, 엄마, 모든, 여자, 대한, 서로, 과연, 시간, 다시, 아들, 소녀, 아내, 다른, 영화제, 사이, 세계, 사실, 하나, 점점, 남편, 감독, 여행, 인생, 발견, 모두, 순간, 우리, 가장, 마지막, 아빠, 생활, 통해, 모습, 기억, 죽음, 비밀, 학교, 음악, 한편, 소년, 생각, 도시, 명의, 결혼, 사고, 전쟁, 위기, 때문, 이제, 최고, 이자, 과거, 일상, 경찰, 간다, 상황, 미국, 운명, 결심, 관계, 현실, 지금, 단편, 여인, 하루, 이름, 이후, 준비, 인간, 만난, 감정, 처음, 국제, 누구, 살인, 충격, 동안, 존재, 그린, 어머니, 연인, 계속, 동생, 작품, \n",
      "\n",
      "일반영화를 대표하는 단어들:\n",
      "자신, 그녀, 영화제, 위해, 사람, 시작, 국제, 영화, 친구, 사랑, 남자, 이야기, 대한, 서울, 여자, 사건, 남편, 아이, 가족, 아버지, 다른, 마을, 시간, 엄마, 아들, 모든, 단편, 마음, 사실, 다시, 세계, 모습, 작품, 통해, 생각, 서로, 세상, 발견, 감독, 아내, 관계, 소녀, 사이, 하나, 우리, 애니메이션, 때문, 여성, 죽음, 과연, 점점, 인간, 생활, 한편, 결혼, 상황, 모두, 기억, 명의, 소년, 여행, 가장, 간다, 순간, 이제, 도시, 비밀, 학교, 과거, 가지, 이자, 경찰, 마지막, 미국, 동안, 전쟁, 주인공, 대해, 존재, 현실, 연출, 사고, 살인, 일상, 어머니, 계속, 사회, 인생, 다큐멘터리, 부문, 섹스, 최고, 바로, 의도, 동생, 하루, 위기, 계획, 정체, 한국, "
     ]
    }
   ],
   "source": [
    "# 두개념을 대표하는 단어 추출\n",
    "m1 = X[0].tocoo()   # art를 TF-IDF로 표현한 sparse matrix를 가져옵니다.\n",
    "m2 = X[1].tocoo()   # gen을 TF-IDF로 표현한 sparse matrix를 가져옵니다.\n",
    "\n",
    "w1 = [[i, j] for i, j in zip(m1.col, m1.data)]\n",
    "w2 = [[i, j] for i, j in zip(m2.col, m2.data)]\n",
    "\n",
    "w1.sort(key=lambda x: x[1], reverse=True)   #art를 구성하는 단어들을 TF-IDF가 높은 순으로 정렬합니다.\n",
    "w2.sort(key=lambda x: x[1], reverse=True)   #gen을 구성하는 단어들을 TF-IDF가 높은 순으로 정렬합니다.\n",
    "\n",
    "print('예술영화를 대표하는 단어들:')\n",
    "for i in range(100):\n",
    "    print(vectorizer.get_feature_names_out()[w1[i][0]], end=', ')\n",
    "\n",
    "print('\\n')\n",
    "\n",
    "print('일반영화를 대표하는 단어들:')\n",
    "for i in range(100):\n",
    "    print(vectorizer.get_feature_names_out()[w2[i][0]], end=', ')"
   ]
  },
  {
   "cell_type": "markdown",
   "id": "7332e367-769a-4a31-a697-1be8483c79c9",
   "metadata": {},
   "source": [
    "* 결과 분석  \n",
    "두개념 중에 중복된 단어가 많다. 상위 100개 단어들 중에 중복을 제외하고 상위 15개 단어를 확인"
   ]
  },
  {
   "cell_type": "code",
   "execution_count": 17,
   "id": "137a36ee-735c-4c80-a2f3-c9dcfd266d38",
   "metadata": {},
   "outputs": [],
   "source": [
    "n = 15\n",
    "w1_, w2_ = [], []\n",
    "for i in range(100):\n",
    "    w1_.append(vectorizer.get_feature_names_out()[w1[i][0]])\n",
    "    w2_.append(vectorizer.get_feature_names_out()[w2[i][0]])\n",
    "\n",
    "# w1에만 있고 w2에는 없는, 예술영화를 잘 대표하는 단어를 15개 추출한다.\n",
    "target_art, target_gen = [], []\n",
    "for i in range(100):\n",
    "    if (w1_[i] not in w2_) and (w1_[i] in model.wv): target_art.append(w1_[i])\n",
    "    if len(target_art) == n: break\n",
    "\n",
    "# w2에만 있고 w1에는 없는, 일반영화를 잘 대표하는 단어를 15개 추출한다.\n",
    "for i in range(100):\n",
    "    if (w2_[i] not in w1_) and (w2_[i] in model.wv): target_gen.append(w2_[i])\n",
    "    if len(target_gen) == n: break"
   ]
  },
  {
   "cell_type": "code",
   "execution_count": 18,
   "id": "8fc2bbc6-f05b-499f-b5f7-de2d8e32591b",
   "metadata": {},
   "outputs": [
    {
     "name": "stdout",
     "output_type": "stream",
     "text": [
      "['아빠', '음악', '운명', '결심', '지금', '여인', '이름', '이후', '준비', '만난', '감정', '처음', '누구', '충격', '그린']\n"
     ]
    }
   ],
   "source": [
    "print(target_art)"
   ]
  },
  {
   "cell_type": "code",
   "execution_count": 19,
   "id": "cf32ec66-8d7e-4f9d-982d-957faab891e2",
   "metadata": {},
   "outputs": [
    {
     "name": "stdout",
     "output_type": "stream",
     "text": [
      "['서울', '애니메이션', '여성', '가지', '주인공', '대해', '연출', '사회', '다큐멘터리', '부문', '섹스', '바로', '의도', '계획', '정체']\n"
     ]
    }
   ],
   "source": [
    "print(target_gen)"
   ]
  },
  {
   "cell_type": "code",
   "execution_count": null,
   "id": "987dae16-9e56-4c61-bdac-353a41eff202",
   "metadata": {},
   "outputs": [],
   "source": []
  },
  {
   "cell_type": "markdown",
   "id": "d86ebb45-9ef9-4eb9-af9b-2503b4c7e9a4",
   "metadata": {},
   "source": [
    "장르별 단어 추출  \n",
    " 드라마 장르와 액션 장르 비교  \n",
    " 코퍼스는 장르 5개를 고려  "
   ]
  },
  {
   "cell_type": "code",
   "execution_count": null,
   "id": "73d393c6-4521-44c5-a900-2ec7a04ab696",
   "metadata": {},
   "outputs": [
    {
     "name": "stdout",
     "output_type": "stream",
     "text": [
      "슝~\n"
     ]
    }
   ],
   "source": [
    "genre_txt = ['synopsis_drama.txt', 'synopsis_romance.txt', 'synopsis_action.txt', 'synopsis_comedy.txt', 'synopsis_war.txt', 'synopsis_horror.txt']\n",
    "genre_name = ['드라마', '멜로로맨스', '액션', '코미디', '전쟁', '공포(호러)']\n",
    "\n",
    "print(\"슝~\")"
   ]
  },
  {
   "cell_type": "code",
   "execution_count": null,
   "id": "25766107-5886-4703-a0c3-cc143ce7ad67",
   "metadata": {},
   "outputs": [
    {
     "name": "stdout",
     "output_type": "stream",
     "text": [
      "synopsis_drama.txt 파일을 읽고 있습니다.\n",
      "synopsis_romance.txt 파일을 읽고 있습니다.\n",
      "synopsis_action.txt 파일을 읽고 있습니다.\n",
      "synopsis_comedy.txt 파일을 읽고 있습니다.\n",
      "synopsis_war.txt 파일을 읽고 있습니다.\n",
      "synopsis_horror.txt 파일을 읽고 있습니다.\n"
     ]
    }
   ],
   "source": [
    "# 약 10분정도 걸립니다.\n",
    "genre = []\n",
    "for file_name in genre_txt:\n",
    "    genre.append(read_token(file_name))"
   ]
  },
  {
   "cell_type": "code",
   "execution_count": null,
   "id": "4466a8a2-7f3b-4904-8b75-642d57460d6b",
   "metadata": {},
   "outputs": [
    {
     "name": "stdout",
     "output_type": "stream",
     "text": [
      "(6, 33151)\n"
     ]
    }
   ],
   "source": [
    "vectorizer = TfidfVectorizer()\n",
    "X = vectorizer.fit_transform(genre)\n",
    "\n",
    "print(X.shape)"
   ]
  },
  {
   "cell_type": "code",
   "execution_count": null,
   "id": "5a5f6ec1-5af5-4123-951f-5f0d047efab8",
   "metadata": {},
   "outputs": [
    {
     "name": "stdout",
     "output_type": "stream",
     "text": [
      "드라마: 자신, 영화제, 그녀, 사람, 사랑, 위해, 영화, 시작, 국제, 남자, 친구, 이야기, 여자, 아버지, 엄마, \n",
      "멜로로맨스: 그녀, 사랑, 자신, 시작, 남자, 남편, 여자, 사람, 친구, 위해, 마음, 섹스, 결혼, 서로, 아내, \n",
      "액션: 위해, 자신, 시작, 조직, 사건, 사람, 그녀, 경찰, 전쟁, 친구, 모든, 목숨, 사실, 세계, 가족, \n",
      "코미디: 그녀, 자신, 시작, 위해, 사랑, 사람, 친구, 영화, 남자, 여자, 영화제, 가족, 과연, 마을, 사건, \n",
      "전쟁: 전쟁, 위해, 전투, 시작, 작전, 독일군, 부대, 독일, 윈터스, 자신, 사람, 공격, 임무, 병사, 연합군, \n",
      "공포(호러): 시작, 위해, 사람, 자신, 친구, 그녀, 사건, 공포, 발견, 죽음, 마을, 남자, 가족, 영화, 하나, \n"
     ]
    }
   ],
   "source": [
    "m = [X[i].tocoo() for i in range(X.shape[0])]\n",
    "\n",
    "w = [[[i, j] for i, j in zip(mm.col, mm.data)] for mm in m]\n",
    "\n",
    "for i in range(len(w)):\n",
    "    w[i].sort(key=lambda x: x[1], reverse=True)\n",
    "attributes = []\n",
    "for i in range(len(w)):\n",
    "    print(genre_name[i], end=': ')\n",
    "    attr = []\n",
    "    j = 0\n",
    "    while (len(attr) < 15):\n",
    "        if vectorizer.get_feature_names_out()[w[i][j][0]] in model.wv:\n",
    "            attr.append(vectorizer.get_feature_names_out()[w[i][j][0]])\n",
    "            print(vectorizer.get_feature_names_out()[w[i][j][0]], end=', ')\n",
    "        j += 1\n",
    "    attributes.append(attr)\n",
    "    print()"
   ]
  },
  {
   "cell_type": "code",
   "execution_count": null,
   "id": "d2976f2c-e6ed-4382-bb2d-a7293ad55779",
   "metadata": {},
   "outputs": [],
   "source": []
  },
  {
   "cell_type": "code",
   "execution_count": null,
   "id": "223eeb56-53d4-468a-a17c-db17f0886970",
   "metadata": {},
   "outputs": [],
   "source": []
  },
  {
   "cell_type": "markdown",
   "id": "bd82f988-19fc-4696-8c5c-49c11965f08a",
   "metadata": {},
   "source": [
    "# Step 4. embedding model과 단어 셋으로 WEAT score 구해보기"
   ]
  },
  {
   "cell_type": "code",
   "execution_count": null,
   "id": "6531bf5e-88a2-45f9-90ef-ab65870c10af",
   "metadata": {},
   "outputs": [
    {
     "name": "stdout",
     "output_type": "stream",
     "text": [
      "슝~\n"
     ]
    }
   ],
   "source": [
    "matrix = [[0 for _ in range(len(genre_name))] for _ in range(len(genre_name))]\n",
    "print(\"슝~\")"
   ]
  },
  {
   "cell_type": "code",
   "execution_count": 28,
   "id": "99ceea63-8262-4f5b-874b-b382789568b0",
   "metadata": {},
   "outputs": [],
   "source": [
    "from numpy import dot\n",
    "from numpy.linalg import norm\n",
    "\n",
    "# 1. 코사인 유사도 계산 함수\n",
    "def cosine_similarity(x, y):\n",
    "    return dot(x, y) / (norm(x) * norm(y))\n",
    "\n",
    "# 2. 단어 하나(w)의 연관성 점수를 계산하는 함수 (이름 변경!)\n",
    "def s_word(w, A, B):\n",
    "    c_a = [cosine_similarity(w, a) for a in A]\n",
    "    c_b = [cosine_similarity(w, b) for b in B]\n",
    "    return np.mean(c_a) - np.mean(c_b)\n",
    "\n",
    "# 3. 단어 리스트(W)에 대해 각 단어의 연관성 점수를 계산하는 함수\n",
    "def s(W, A, B):\n",
    "    # 이름이 변경된 s_word 함수를 호출하도록 수정!\n",
    "    return [s_word(w, A, B) for w in W]\n",
    "\n",
    "# 이제 weat_score 함수는 의도대로 정상 작동합니다.\n",
    "def weat_score(X, Y, A, B):\n",
    "    s_X = s(X, A, B)\n",
    "    s_Y = s(Y, A, B)\n",
    "    mean_X = np.mean(s_X)\n",
    "    mean_Y = np.mean(s_Y)\n",
    "    std_dev = np.std(np.concatenate([s_X, s_Y], axis=0))\n",
    "    return (mean_X - mean_Y) / std_dev\n",
    "\n",
    "# X, Y, A, B 변수가 올바르게 정의되어 있다고 가정하고 실행\n",
    "# print(round(weat_score(X, Y, A, B), 3))"
   ]
  },
  {
   "cell_type": "code",
   "execution_count": 26,
   "id": "082fcca8-adaf-44fe-af9b-53132ac5fe40",
   "metadata": {},
   "outputs": [
    {
     "ename": "NameError",
     "evalue": "name 's' is not defined",
     "output_type": "error",
     "traceback": [
      "\u001b[31m---------------------------------------------------------------------------\u001b[39m",
      "\u001b[31mNameError\u001b[39m                                 Traceback (most recent call last)",
      "\u001b[36mCell\u001b[39m\u001b[36m \u001b[39m\u001b[32mIn[26]\u001b[39m\u001b[32m, line 13\u001b[39m\n\u001b[32m      9\u001b[39m     std_dev = np.std(np.concatenate([s_X, s_Y], axis=\u001b[32m0\u001b[39m))\n\u001b[32m     11\u001b[39m     \u001b[38;5;28;01mreturn\u001b[39;00m  (mean_X-mean_Y)/std_dev\n\u001b[32m---> \u001b[39m\u001b[32m13\u001b[39m \u001b[38;5;28mprint\u001b[39m(\u001b[38;5;28mround\u001b[39m(\u001b[43mweat_score\u001b[49m\u001b[43m(\u001b[49m\u001b[43mX\u001b[49m\u001b[43m,\u001b[49m\u001b[43m \u001b[49m\u001b[43mY\u001b[49m\u001b[43m,\u001b[49m\u001b[43m \u001b[49m\u001b[43mA\u001b[49m\u001b[43m,\u001b[49m\u001b[43m \u001b[49m\u001b[43mB\u001b[49m\u001b[43m)\u001b[49m, \u001b[32m3\u001b[39m))\n",
      "\u001b[36mCell\u001b[39m\u001b[36m \u001b[39m\u001b[32mIn[26]\u001b[39m\u001b[32m, line 3\u001b[39m, in \u001b[36mweat_score\u001b[39m\u001b[34m(X, Y, A, B)\u001b[39m\n\u001b[32m      1\u001b[39m \u001b[38;5;28;01mdef\u001b[39;00m\u001b[38;5;250m \u001b[39m\u001b[34mweat_score\u001b[39m(X, Y, A, B):\n\u001b[32m----> \u001b[39m\u001b[32m3\u001b[39m     s_X = \u001b[43ms\u001b[49m(X, A, B)\n\u001b[32m      4\u001b[39m     s_Y = s(Y, A, B)\n\u001b[32m      6\u001b[39m     mean_X = np.mean(s_X)\n",
      "\u001b[31mNameError\u001b[39m: name 's' is not defined"
     ]
    }
   ],
   "source": [
    "def weat_score(X, Y, A, B):\n",
    "\n",
    "    s_X = s(X, A, B)\n",
    "    s_Y = s(Y, A, B)\n",
    "\n",
    "    mean_X = np.mean(s_X)\n",
    "    mean_Y = np.mean(s_Y)\n",
    "\n",
    "    std_dev = np.std(np.concatenate([s_X, s_Y], axis=0))\n",
    "\n",
    "    return  (mean_X-mean_Y)/std_dev\n",
    "\n",
    "print(round(weat_score(X, Y, A, B), 3))"
   ]
  },
  {
   "cell_type": "code",
   "execution_count": 29,
   "id": "cce24ae3-1e23-490b-951f-b1ae155c8681",
   "metadata": {},
   "outputs": [
    {
     "name": "stdout",
     "output_type": "stream",
     "text": [
      "슝~\n"
     ]
    }
   ],
   "source": [
    "X = np.array([model.wv[word] for word in target_art])\n",
    "Y = np.array([model.wv[word] for word in target_gen])\n",
    "\n",
    "for i in range(len(genre_name)-1):\n",
    "    for j in range(i+1, len(genre_name)):\n",
    "        A = np.array([model.wv[word] for word in attributes[i]])\n",
    "        B = np.array([model.wv[word] for word in attributes[j]])\n",
    "        matrix[i][j] = weat_score(X, Y, A, B)\n",
    "\n",
    "print(\"슝~\")"
   ]
  },
  {
   "cell_type": "code",
   "execution_count": 30,
   "id": "a836efbb-1e02-46d6-ac77-a0aa855b3d94",
   "metadata": {},
   "outputs": [
    {
     "name": "stdout",
     "output_type": "stream",
     "text": [
      "드라마 멜로로맨스 -0.72146505\n",
      "드라마 액션 0.15222423\n",
      "드라마 코미디 0.010299199\n",
      "드라마 전쟁 0.5281585\n",
      "드라마 공포(호러) 0.01642828\n",
      "멜로로맨스 액션 0.6291354\n",
      "멜로로맨스 코미디 0.7557935\n",
      "멜로로맨스 전쟁 0.7235527\n",
      "멜로로맨스 공포(호러) 0.61438453\n",
      "액션 코미디 -0.20456083\n",
      "액션 전쟁 0.61956537\n",
      "액션 공포(호러) -0.24698274\n",
      "코미디 전쟁 0.5838682\n",
      "코미디 공포(호러) 0.018289626\n",
      "전쟁 공포(호러) -0.5683511\n"
     ]
    }
   ],
   "source": [
    "for i in range(len(genre_name)-1):\n",
    "    for j in range(i+1, len(genre_name)):\n",
    "        print(genre_name[i], genre_name[j],matrix[i][j])"
   ]
  },
  {
   "cell_type": "code",
   "execution_count": 31,
   "id": "3e3d1b6b-a0fb-4441-879f-9de1b287d521",
   "metadata": {
    "scrolled": true
   },
   "outputs": [],
   "source": [
    "# !apt-get update -qq\n",
    "# !apt-get install -qq fonts-nanum\n",
    "\n",
    "import matplotlib.pyplot as plt \n",
    "import matplotlib.font_manager as fm\n",
    "font_path = '/usr/share/fonts/truetype/nanum/NanumGothic.ttf'\n",
    "fm.fontManager.addfont(font_path)\n",
    "plt.rc('font', family='NanumGothic')"
   ]
  },
  {
   "cell_type": "code",
   "execution_count": 32,
   "id": "2619ae22-b30d-460c-9e6d-e8d92fea78d7",
   "metadata": {},
   "outputs": [
    {
     "data": {
      "text/plain": [
       "<Axes: >"
      ]
     },
     "execution_count": 32,
     "metadata": {},
     "output_type": "execute_result"
    },
    {
     "data": {
      "image/png": "[encoded data removed]",
      "text/plain": [
       "<Figure size 640x480 with 2 Axes>"
      ]
     },
     "metadata": {},
     "output_type": "display_data"
    }
   ],
   "source": [
    "import numpy as np;\n",
    "import seaborn as sns;\n",
    "\n",
    "np.random.seed(0)\n",
    "\n",
    "# 한글 지원 폰트\n",
    "sns.set(font='NanumGothic')\n",
    "\n",
    "# 마이너스 부호\n",
    "plt.rcParams['axes.unicode_minus'] = False\n",
    "\n",
    "ax = sns.heatmap(matrix, xticklabels=genre_name, yticklabels=genre_name, annot=True,  cmap='RdYlGn_r')\n",
    "ax"
   ]
  },
  {
   "cell_type": "code",
   "execution_count": null,
   "id": "53e73533-5e77-4467-84cb-dc18441d70b1",
   "metadata": {},
   "outputs": [],
   "source": []
  },
  {
   "cell_type": "code",
   "execution_count": null,
   "id": "29157960-a626-41d7-a3d6-f28c4ab6fbde",
   "metadata": {},
   "outputs": [],
   "source": []
  }
 ],
 "metadata": {
  "kernelspec": {
   "display_name": "Python 3 (ipykernel)",
   "language": "python",
   "name": "python3"
  },
  "language_info": {
   "codemirror_mode": {
    "name": "ipython",
    "version": 3
   },
   "file_extension": ".py",
   "mimetype": "text/x-python",
   "name": "python",
   "nbconvert_exporter": "python",
   "pygments_lexer": "ipython3",
   "version": "3.12.11"
  }
 },
 "nbformat": 4,
 "nbformat_minor": 5
}
